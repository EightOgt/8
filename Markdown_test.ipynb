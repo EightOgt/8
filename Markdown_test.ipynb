#20210208  
##ogata  
*事例共有会準備:RPA概要:仕掛中  
本日レビュー予定　　
*[Ticket#85](https://github.com/abeam-celonis/tickets/issues/85):本日着手予定  
IBCデータアップロード環境設定、SAP伝票登録標準時間算出計算要件思案
